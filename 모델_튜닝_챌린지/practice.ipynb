{
 "cells": [
  {
   "cell_type": "markdown",
   "id": "fecfb751",
   "metadata": {},
   "source": [
    "## 모델 튜닝 챌린지 : RF 하이퍼파라미터 최적화 경진대회\n",
    "알고리즘 | 정형 | 하이퍼파라미터 | 모델 튜닝 | 노코딩 | AUC\n",
    "\n",
    "https://dacon.io/competitions/official/236229/overview/description"
   ]
  },
  {
   "cell_type": "code",
   "execution_count": null,
   "id": "c25ee2f8",
   "metadata": {},
   "outputs": [],
   "source": []
  },
  {
   "cell_type": "markdown",
   "id": "6d228d81",
   "metadata": {},
   "source": [
    "## 1. Preparation"
   ]
  },
  {
   "cell_type": "code",
   "execution_count": 1,
   "id": "f44d86ae",
   "metadata": {},
   "outputs": [],
   "source": [
    "import numpy as np\n",
    "import pandas as pd\n",
    "\n",
    "import matplotlib.pyplot as plt\n",
    "import seaborn as sns\n",
    "\n",
    "from sklearn.ensemble import RandomForestClassifier, RandomForestRegressor\n",
    "from sklearn.metrics import roc_auc_score\n",
    "\n",
    "from sklearn.model_selection import train_test_split, KFold, cross_val_score\n",
    "\n",
    "import random\n",
    "import os"
   ]
  },
  {
   "cell_type": "code",
   "execution_count": 2,
   "id": "5af5b23c",
   "metadata": {},
   "outputs": [],
   "source": [
    "import warnings\n",
    "warnings.filterwarnings(action='ignore')"
   ]
  },
  {
   "cell_type": "code",
   "execution_count": null,
   "id": "fda2412e",
   "metadata": {},
   "outputs": [],
   "source": [
    "SEED = 42\n",
    "\n",
    "def seed_everything(SEED: int = SEED):\n",
    "    random.seed(SEED)\n",
    "    np.random.seed(SEED)\n",
    "    os.environ[\"PYTHONHASHSEED\"] = str(SEED)"
   ]
  },
  {
   "cell_type": "markdown",
   "id": "34e8d061",
   "metadata": {},
   "source": [
    "## 2. Data loading\n",
    "\n",
    "- person_id: 유저별 고유 아이디\n",
    "- Sex: 성별\n",
    "- past_login_total: 과거(5월 8일 이전)에 로그인한 총 횟수\n",
    "- past_1_month_login: 과거 1달간 로그인한 총 횟수\n",
    "- past_1_week_login: 과거 1주간 로그인한 총 횟수\n",
    "- sub_size: 과거에 데이콘 대회에서의 총 제출 수\n",
    "- email_type: 가입한 이메일 종류\n",
    "- phone_rat: 폰으로 접속한 비율\n",
    "- apple_rat: 애플 기기로 접속한 비율\n",
    "- `login`: 로그인 여부 "
   ]
  },
  {
   "cell_type": "code",
   "execution_count": 3,
   "id": "226b7a7a",
   "metadata": {},
   "outputs": [
    {
     "name": "stdout",
     "output_type": "stream",
     "text": [
      "(1309, 9)\n"
     ]
    },
    {
     "data": {
      "text/html": [
       "<div>\n",
       "<style scoped>\n",
       "    .dataframe tbody tr th:only-of-type {\n",
       "        vertical-align: middle;\n",
       "    }\n",
       "\n",
       "    .dataframe tbody tr th {\n",
       "        vertical-align: top;\n",
       "    }\n",
       "\n",
       "    .dataframe thead th {\n",
       "        text-align: right;\n",
       "    }\n",
       "</style>\n",
       "<table border=\"1\" class=\"dataframe\">\n",
       "  <thead>\n",
       "    <tr style=\"text-align: right;\">\n",
       "      <th></th>\n",
       "      <th>Sex</th>\n",
       "      <th>past_login_total</th>\n",
       "      <th>past_1_month_login</th>\n",
       "      <th>past_1_week_login</th>\n",
       "      <th>sub_size</th>\n",
       "      <th>email_type</th>\n",
       "      <th>phone_rat</th>\n",
       "      <th>apple_rat</th>\n",
       "      <th>login</th>\n",
       "    </tr>\n",
       "    <tr>\n",
       "      <th>person_id</th>\n",
       "      <th></th>\n",
       "      <th></th>\n",
       "      <th></th>\n",
       "      <th></th>\n",
       "      <th></th>\n",
       "      <th></th>\n",
       "      <th></th>\n",
       "      <th></th>\n",
       "      <th></th>\n",
       "    </tr>\n",
       "  </thead>\n",
       "  <tbody>\n",
       "    <tr>\n",
       "      <th>0</th>\n",
       "      <td>0</td>\n",
       "      <td>3.0</td>\n",
       "      <td>1.0</td>\n",
       "      <td>1.0</td>\n",
       "      <td>0.0</td>\n",
       "      <td>0</td>\n",
       "      <td>0.000000</td>\n",
       "      <td>0.0</td>\n",
       "      <td>1</td>\n",
       "    </tr>\n",
       "    <tr>\n",
       "      <th>1</th>\n",
       "      <td>1</td>\n",
       "      <td>111.0</td>\n",
       "      <td>26.0</td>\n",
       "      <td>7.0</td>\n",
       "      <td>2.0</td>\n",
       "      <td>0</td>\n",
       "      <td>0.072072</td>\n",
       "      <td>0.0</td>\n",
       "      <td>1</td>\n",
       "    </tr>\n",
       "    <tr>\n",
       "      <th>3</th>\n",
       "      <td>1</td>\n",
       "      <td>13.0</td>\n",
       "      <td>13.0</td>\n",
       "      <td>11.0</td>\n",
       "      <td>7.0</td>\n",
       "      <td>0</td>\n",
       "      <td>0.076923</td>\n",
       "      <td>1.0</td>\n",
       "      <td>1</td>\n",
       "    </tr>\n",
       "  </tbody>\n",
       "</table>\n",
       "</div>"
      ],
      "text/plain": [
       "           Sex  past_login_total  past_1_month_login  past_1_week_login  \\\n",
       "person_id                                                                 \n",
       "0            0               3.0                 1.0                1.0   \n",
       "1            1             111.0                26.0                7.0   \n",
       "3            1              13.0                13.0               11.0   \n",
       "\n",
       "           sub_size  email_type  phone_rat  apple_rat  login  \n",
       "person_id                                                     \n",
       "0               0.0           0   0.000000        0.0      1  \n",
       "1               2.0           0   0.072072        0.0      1  \n",
       "3               7.0           0   0.076923        1.0      1  "
      ]
     },
     "execution_count": 3,
     "metadata": {},
     "output_type": "execute_result"
    }
   ],
   "source": [
    "train = pd.read_csv(\"train.csv\", index_col='person_id')\n",
    "\n",
    "print(train.shape)\n",
    "train.head(3)"
   ]
  },
  {
   "cell_type": "code",
   "execution_count": 4,
   "id": "ead410ea",
   "metadata": {},
   "outputs": [
    {
     "name": "stdout",
     "output_type": "stream",
     "text": [
      "(1, 10)\n"
     ]
    },
    {
     "data": {
      "text/html": [
       "<div>\n",
       "<style scoped>\n",
       "    .dataframe tbody tr th:only-of-type {\n",
       "        vertical-align: middle;\n",
       "    }\n",
       "\n",
       "    .dataframe tbody tr th {\n",
       "        vertical-align: top;\n",
       "    }\n",
       "\n",
       "    .dataframe thead th {\n",
       "        text-align: right;\n",
       "    }\n",
       "</style>\n",
       "<table border=\"1\" class=\"dataframe\">\n",
       "  <thead>\n",
       "    <tr style=\"text-align: right;\">\n",
       "      <th></th>\n",
       "      <th>n_estimators</th>\n",
       "      <th>criterion</th>\n",
       "      <th>max_depth</th>\n",
       "      <th>min_samples_split</th>\n",
       "      <th>min_samples_leaf</th>\n",
       "      <th>min_weight_fraction_leaf</th>\n",
       "      <th>max_features</th>\n",
       "      <th>max_leaf_nodes</th>\n",
       "      <th>min_impurity_decrease</th>\n",
       "      <th>bootstrap</th>\n",
       "    </tr>\n",
       "  </thead>\n",
       "  <tbody>\n",
       "    <tr>\n",
       "      <th>0</th>\n",
       "      <td>100</td>\n",
       "      <td>gini</td>\n",
       "      <td>NaN</td>\n",
       "      <td>2</td>\n",
       "      <td>1</td>\n",
       "      <td>0</td>\n",
       "      <td>auto</td>\n",
       "      <td>NaN</td>\n",
       "      <td>0</td>\n",
       "      <td>True</td>\n",
       "    </tr>\n",
       "  </tbody>\n",
       "</table>\n",
       "</div>"
      ],
      "text/plain": [
       "   n_estimators criterion  max_depth  min_samples_split  min_samples_leaf  \\\n",
       "0           100      gini        NaN                  2                 1   \n",
       "\n",
       "   min_weight_fraction_leaf max_features  max_leaf_nodes  \\\n",
       "0                         0         auto             NaN   \n",
       "\n",
       "   min_impurity_decrease  bootstrap  \n",
       "0                      0       True  "
      ]
     },
     "execution_count": 4,
     "metadata": {},
     "output_type": "execute_result"
    }
   ],
   "source": [
    "submission = pd.read_csv(\"sample_submission.csv\")\n",
    "\n",
    "print(submission.shape)\n",
    "submission.head(3)"
   ]
  },
  {
   "cell_type": "code",
   "execution_count": 5,
   "id": "a3a5dddb",
   "metadata": {},
   "outputs": [
    {
     "data": {
      "text/plain": [
       "Index(['n_estimators', 'criterion', 'max_depth', 'min_samples_split',\n",
       "       'min_samples_leaf', 'min_weight_fraction_leaf', 'max_features',\n",
       "       'max_leaf_nodes', 'min_impurity_decrease', 'bootstrap'],\n",
       "      dtype='object')"
      ]
     },
     "execution_count": 5,
     "metadata": {},
     "output_type": "execute_result"
    }
   ],
   "source": [
    "col_params = submission.columns\n",
    "col_params"
   ]
  },
  {
   "cell_type": "code",
   "execution_count": null,
   "id": "149cafa3",
   "metadata": {},
   "outputs": [],
   "source": []
  },
  {
   "cell_type": "markdown",
   "id": "0993493c",
   "metadata": {},
   "source": [
    "## 3. Preprocessing"
   ]
  },
  {
   "cell_type": "code",
   "execution_count": 6,
   "id": "28cff257",
   "metadata": {},
   "outputs": [
    {
     "data": {
      "text/plain": [
       "Index(['Sex', 'past_login_total', 'past_1_month_login', 'past_1_week_login',\n",
       "       'sub_size', 'email_type', 'phone_rat', 'apple_rat', 'login'],\n",
       "      dtype='object')"
      ]
     },
     "execution_count": 6,
     "metadata": {},
     "output_type": "execute_result"
    }
   ],
   "source": [
    "train.head(1)\n",
    "train.columns"
   ]
  },
  {
   "cell_type": "code",
   "execution_count": 7,
   "id": "0fc14dfd",
   "metadata": {},
   "outputs": [
    {
     "name": "stdout",
     "output_type": "stream",
     "text": [
      "(1309, 8)\n"
     ]
    },
    {
     "data": {
      "text/html": [
       "<div>\n",
       "<style scoped>\n",
       "    .dataframe tbody tr th:only-of-type {\n",
       "        vertical-align: middle;\n",
       "    }\n",
       "\n",
       "    .dataframe tbody tr th {\n",
       "        vertical-align: top;\n",
       "    }\n",
       "\n",
       "    .dataframe thead th {\n",
       "        text-align: right;\n",
       "    }\n",
       "</style>\n",
       "<table border=\"1\" class=\"dataframe\">\n",
       "  <thead>\n",
       "    <tr style=\"text-align: right;\">\n",
       "      <th></th>\n",
       "      <th>Sex</th>\n",
       "      <th>past_login_total</th>\n",
       "      <th>past_1_month_login</th>\n",
       "      <th>past_1_week_login</th>\n",
       "      <th>sub_size</th>\n",
       "      <th>email_type</th>\n",
       "      <th>phone_rat</th>\n",
       "      <th>apple_rat</th>\n",
       "    </tr>\n",
       "    <tr>\n",
       "      <th>person_id</th>\n",
       "      <th></th>\n",
       "      <th></th>\n",
       "      <th></th>\n",
       "      <th></th>\n",
       "      <th></th>\n",
       "      <th></th>\n",
       "      <th></th>\n",
       "      <th></th>\n",
       "    </tr>\n",
       "  </thead>\n",
       "  <tbody>\n",
       "    <tr>\n",
       "      <th>0</th>\n",
       "      <td>0</td>\n",
       "      <td>3.0</td>\n",
       "      <td>1.0</td>\n",
       "      <td>1.0</td>\n",
       "      <td>0.0</td>\n",
       "      <td>0</td>\n",
       "      <td>0.000000</td>\n",
       "      <td>0.0</td>\n",
       "    </tr>\n",
       "    <tr>\n",
       "      <th>1</th>\n",
       "      <td>1</td>\n",
       "      <td>111.0</td>\n",
       "      <td>26.0</td>\n",
       "      <td>7.0</td>\n",
       "      <td>2.0</td>\n",
       "      <td>0</td>\n",
       "      <td>0.072072</td>\n",
       "      <td>0.0</td>\n",
       "    </tr>\n",
       "    <tr>\n",
       "      <th>3</th>\n",
       "      <td>1</td>\n",
       "      <td>13.0</td>\n",
       "      <td>13.0</td>\n",
       "      <td>11.0</td>\n",
       "      <td>7.0</td>\n",
       "      <td>0</td>\n",
       "      <td>0.076923</td>\n",
       "      <td>1.0</td>\n",
       "    </tr>\n",
       "  </tbody>\n",
       "</table>\n",
       "</div>"
      ],
      "text/plain": [
       "           Sex  past_login_total  past_1_month_login  past_1_week_login  \\\n",
       "person_id                                                                 \n",
       "0            0               3.0                 1.0                1.0   \n",
       "1            1             111.0                26.0                7.0   \n",
       "3            1              13.0                13.0               11.0   \n",
       "\n",
       "           sub_size  email_type  phone_rat  apple_rat  \n",
       "person_id                                              \n",
       "0               0.0           0   0.000000        0.0  \n",
       "1               2.0           0   0.072072        0.0  \n",
       "3               7.0           0   0.076923        1.0  "
      ]
     },
     "execution_count": 7,
     "metadata": {},
     "output_type": "execute_result"
    }
   ],
   "source": [
    "y = train['login']\n",
    "X = train.drop(columns='login')\n",
    "\n",
    "print(X.shape)\n",
    "X.head(3)"
   ]
  },
  {
   "cell_type": "markdown",
   "id": "099c1142",
   "metadata": {},
   "source": [
    "#### target(label) distribution"
   ]
  },
  {
   "cell_type": "code",
   "execution_count": 21,
   "id": "3eb8225e",
   "metadata": {},
   "outputs": [
    {
     "name": "stdout",
     "output_type": "stream",
     "text": [
      "login\n",
      "0    1163\n",
      "1     146\n",
      "Name: count, dtype: int64\n",
      "login\n",
      "0    0.888464\n",
      "1    0.111536\n",
      "Name: proportion, dtype: float64\n"
     ]
    },
    {
     "data": {
      "image/png": "[encoded data removed]",
      "text/plain": [
       "<Figure size 400x300 with 1 Axes>"
      ]
     },
     "metadata": {},
     "output_type": "display_data"
    }
   ],
   "source": [
    "plt.figure(figsize=(4,3))\n",
    "sns.countplot(train, x='login')\n",
    "\n",
    "print(train[\"login\"].value_counts())\n",
    "print(train[\"login\"].value_counts(normalize=True))"
   ]
  },
  {
   "cell_type": "code",
   "execution_count": null,
   "id": "658713d1",
   "metadata": {},
   "outputs": [],
   "source": []
  },
  {
   "cell_type": "markdown",
   "id": "7bdff43e",
   "metadata": {},
   "source": [
    "## 4. Fitting & Evaluations(Validation )"
   ]
  },
  {
   "cell_type": "code",
   "execution_count": 13,
   "id": "67b2989c",
   "metadata": {},
   "outputs": [],
   "source": [
    "from sklearn.ensemble import RandomForestClassifier\n",
    "from sklearn.metrics import accuracy_score\n",
    "\n",
    "rf_clf = RandomForestClassifier(random_state=SEED)"
   ]
  },
  {
   "cell_type": "code",
   "execution_count": 19,
   "id": "6e124f38",
   "metadata": {},
   "outputs": [
    {
     "name": "stdout",
     "output_type": "stream",
     "text": [
      "(1047, 8) (262, 8)\n",
      "(1047,) (262,)\n",
      "login\n",
      "0    0.888252\n",
      "1    0.111748\n",
      "Name: proportion, dtype: float64 login\n",
      "0    0.889313\n",
      "1    0.110687\n",
      "Name: proportion, dtype: float64\n"
     ]
    }
   ],
   "source": [
    "# Hold-out :\n",
    "X_fit, X_val, y_fit, y_val = train_test_split(X, y, test_size=0.2, \n",
    "                                              stratify=y, random_state=SEED)\n",
    "\n",
    "print(X_fit.shape, X_val.shape)\n",
    "print(y_fit.shape, y_val.shape)\n",
    "print(y_fit.value_counts(normalize=True), y_val.value_counts(normalize=True))"
   ]
  },
  {
   "cell_type": "code",
   "execution_count": null,
   "id": "934e0673",
   "metadata": {
    "scrolled": true
   },
   "outputs": [],
   "source": [
    "# Cross val :\n",
    "\n",
    "folds = 5\n",
    "kfold = KFold(n_splits=folds, shuffle=True, random_state=42)\n",
    "l_score = []\n",
    "for idx, (train_idx, test_idx) in enumerate(kfold.split(X)):\n",
    "\n",
    "    X_fit = X.values[train_idx] \n",
    "    X_val = X.values[test_idx]\n",
    "    \n",
    "    y_fit = y.values[train_idx] \n",
    "    y_val = y.values[test_idx]\n",
    "\n",
    "    rf_clf.fit(X_fit, y_fit)\n",
    "    pred = rf_clf.predict(X_val)\n",
    "    \n",
    "    score = accuracy_score(y_val, pred)\n",
    "    l_score.append(score)\n",
    "    \n",
    "    print(f\"{folds}번 중에서 {idx+1}번째 : accuracy 는 {score} 입니다\")\n",
    "    \n",
    "print(f\"평균 accuracy : {np.mean(l_score):.4f}\")    "
   ]
  },
  {
   "cell_type": "code",
   "execution_count": null,
   "id": "ed383dcd",
   "metadata": {},
   "outputs": [],
   "source": []
  },
  {
   "cell_type": "code",
   "execution_count": 91,
   "id": "bfcaba16",
   "metadata": {},
   "outputs": [],
   "source": [
    "p_optuna = {...}"
   ]
  },
  {
   "cell_type": "code",
   "execution_count": 92,
   "id": "60fd1eb1",
   "metadata": {},
   "outputs": [],
   "source": [
    "rf_clf = RandomForestClassifier(**p_optuna, random_state=42)"
   ]
  },
  {
   "cell_type": "code",
   "execution_count": null,
   "id": "e9a828c1",
   "metadata": {},
   "outputs": [],
   "source": [
    "rf_clf.fit(X_fit, y_fit)"
   ]
  },
  {
   "cell_type": "code",
   "execution_count": 94,
   "id": "3e46e27d",
   "metadata": {},
   "outputs": [],
   "source": [
    "pred = rf_clf.predict(X_val)"
   ]
  },
  {
   "cell_type": "code",
   "execution_count": null,
   "id": "6103a6a1",
   "metadata": {},
   "outputs": [],
   "source": [
    "roc_auc_score(y_val, pred)   "
   ]
  },
  {
   "cell_type": "code",
   "execution_count": null,
   "id": "743bff16",
   "metadata": {},
   "outputs": [],
   "source": []
  },
  {
   "cell_type": "markdown",
   "id": "7a35c0f2",
   "metadata": {},
   "source": [
    "## 5. Optimization : Find hyper-parameters"
   ]
  },
  {
   "cell_type": "code",
   "execution_count": null,
   "id": "a3fcaa89",
   "metadata": {},
   "outputs": [],
   "source": [
    "['n_estimators', 'criterion', 'max_depth', 'min_samples_split',\n",
    "'min_samples_leaf', 'min_weight_fraction_leaf', 'max_features',\n",
    "'max_leaf_nodes', 'min_impurity_decrease', 'bootstrap']"
   ]
  },
  {
   "cell_type": "code",
   "execution_count": 72,
   "id": "9db458b1",
   "metadata": {},
   "outputs": [],
   "source": [
    "import optuna\n",
    "from optuna.samplers import TPESampler"
   ]
  },
  {
   "cell_type": "code",
   "execution_count": 73,
   "id": "fd25e8d7",
   "metadata": {},
   "outputs": [],
   "source": [
    "def objective(trial):\n",
    "    scores = []\n",
    "    \n",
    "    params = {\n",
    "        \"n_estimators\" : trial.suggest_int('n_estimators', 100, 165),\n",
    "        \"max_depth\" : trial.suggest_int('max_depth', 8, 25),\n",
    "        'criterion' : trial.suggest_categorical('criterion', [\"gini\",\"entropy\",\"log_loss\"]),\n",
    "        \"min_samples_split\" : trial.suggest_int('min_samples_split', 2, 30),\n",
    "        \"min_samples_leaf\" : trial.suggest_int('min_samples_leaf', 1, 10),\n",
    "        \"min_weight_fraction_leaf\" : trial.suggest_uniform('min_weight_fraction_leaf', 0.0, 0.1),\n",
    "        'max_features' : trial.suggest_categorical('max_features', [\"sqrt\",\"log2\",None]),\n",
    "        \"max_leaf_nodes\" : trial.suggest_int('max_leaf_nodes', 10, 30),\n",
    "        \"min_impurity_decrease\" : trial.suggest_uniform('min_impurity_decrease', 0.0, 0.1),\n",
    "        \"bootstrap\" : trial.suggest_categorical('bootstrap', [True, False])\n",
    "    }\n",
    "    \n",
    "    rf_clf_opt = RandomForestClassifier(**params, random_state=42)\n",
    "    rf_clf_opt.fit(X_fit, y_fit)\n",
    "    \n",
    "    pred_opt = rf_clf_opt.predict(X_val)\n",
    "    score = roc_auc_score(y_val, pred_opt)\n",
    "    \n",
    "    scores.append(score)\n",
    "    \n",
    "    return np.mean(scores)"
   ]
  },
  {
   "cell_type": "code",
   "execution_count": null,
   "id": "7e6a81f2",
   "metadata": {},
   "outputs": [],
   "source": [
    "sampler = TPESampler()\n",
    "\n",
    "study = optuna.create_study(sampler=sampler,\n",
    "                            direction='maximize')\n",
    "study.optimize(objective, n_trials=500)"
   ]
  },
  {
   "cell_type": "code",
   "execution_count": null,
   "id": "f0037aad",
   "metadata": {},
   "outputs": [],
   "source": [
    "print(study.best_params)\n",
    "print(study.best_value)"
   ]
  },
  {
   "cell_type": "code",
   "execution_count": null,
   "id": "482906f4",
   "metadata": {},
   "outputs": [],
   "source": []
  },
  {
   "cell_type": "markdown",
   "id": "d7d43600",
   "metadata": {},
   "source": [
    "### n_estimators"
   ]
  },
  {
   "cell_type": "code",
   "execution_count": 28,
   "id": "1a85ae21",
   "metadata": {
    "collapsed": true
   },
   "outputs": [
    {
     "name": "stdout",
     "output_type": "stream",
     "text": [
      "n_estimators: 100, AUC: 0.6961669379902323\n",
      "n_estimators: 101, AUC: 0.6940210152434513\n",
      "n_estimators: 102, AUC: 0.7112623945537961\n",
      "n_estimators: 103, AUC: 0.7112623945537961\n",
      "n_estimators: 104, AUC: 0.7112623945537961\n",
      "n_estimators: 105, AUC: 0.7134083173005772\n",
      "n_estimators: 106, AUC: 0.7112623945537961\n",
      "n_estimators: 107, AUC: 0.6961669379902323\n",
      "n_estimators: 108, AUC: 0.7134083173005772\n",
      "n_estimators: 109, AUC: 0.7134083173005772\n",
      "n_estimators: 110, AUC: 0.7134083173005772\n",
      "n_estimators: 111, AUC: 0.7134083173005772\n",
      "n_estimators: 112, AUC: 0.7134083173005772\n",
      "n_estimators: 113, AUC: 0.7134083173005772\n",
      "n_estimators: 114, AUC: 0.6940210152434513\n",
      "n_estimators: 115, AUC: 0.6961669379902323\n",
      "n_estimators: 116, AUC: 0.7134083173005772\n",
      "n_estimators: 117, AUC: 0.6961669379902323\n",
      "n_estimators: 118, AUC: 0.6961669379902323\n",
      "n_estimators: 119, AUC: 0.6961669379902323\n",
      "n_estimators: 120, AUC: 0.6961669379902323\n",
      "n_estimators: 121, AUC: 0.7134083173005772\n",
      "n_estimators: 122, AUC: 0.6961669379902323\n",
      "n_estimators: 123, AUC: 0.7134083173005772\n",
      "n_estimators: 124, AUC: 0.7134083173005772\n",
      "n_estimators: 125, AUC: 0.7134083173005772\n",
      "n_estimators: 126, AUC: 0.7134083173005772\n",
      "n_estimators: 127, AUC: 0.7134083173005772\n",
      "n_estimators: 128, AUC: 0.7134083173005772\n",
      "n_estimators: 129, AUC: 0.7134083173005772\n",
      "n_estimators: 130, AUC: 0.7134083173005772\n",
      "n_estimators: 131, AUC: 0.7134083173005772\n",
      "n_estimators: 132, AUC: 0.7134083173005772\n",
      "n_estimators: 133, AUC: 0.7134083173005772\n",
      "n_estimators: 134, AUC: 0.7134083173005772\n",
      "n_estimators: 135, AUC: 0.7134083173005772\n",
      "n_estimators: 136, AUC: 0.7134083173005772\n",
      "n_estimators: 137, AUC: 0.7134083173005772\n",
      "n_estimators: 138, AUC: 0.7134083173005772\n",
      "n_estimators: 139, AUC: 0.7134083173005772\n",
      "n_estimators: 140, AUC: 0.7134083173005772\n",
      "n_estimators: 141, AUC: 0.7134083173005772\n",
      "n_estimators: 142, AUC: 0.7134083173005772\n",
      "n_estimators: 143, AUC: 0.7134083173005772\n",
      "n_estimators: 144, AUC: 0.7134083173005772\n",
      "n_estimators: 145, AUC: 0.7134083173005772\n",
      "n_estimators: 146, AUC: 0.7134083173005772\n",
      "n_estimators: 147, AUC: 0.7134083173005772\n",
      "n_estimators: 148, AUC: 0.7134083173005772\n",
      "n_estimators: 149, AUC: 0.7134083173005772\n",
      "n_estimators: 150, AUC: 0.7134083173005772\n",
      "n_estimators: 151, AUC: 0.7134083173005772\n",
      "n_estimators: 152, AUC: 0.7134083173005772\n",
      "n_estimators: 153, AUC: 0.6961669379902323\n",
      "n_estimators: 154, AUC: 0.6961669379902323\n",
      "n_estimators: 155, AUC: 0.6961669379902323\n",
      "n_estimators: 156, AUC: 0.6961669379902323\n",
      "n_estimators: 157, AUC: 0.6961669379902323\n",
      "n_estimators: 158, AUC: 0.6961669379902323\n",
      "n_estimators: 159, AUC: 0.7134083173005772\n",
      "n_estimators: 160, AUC: 0.7134083173005772\n",
      "n_estimators: 161, AUC: 0.7134083173005772\n",
      "n_estimators: 162, AUC: 0.6961669379902323\n",
      "n_estimators: 163, AUC: 0.6961669379902323\n",
      "n_estimators: 164, AUC: 0.6961669379902323\n"
     ]
    }
   ],
   "source": [
    "log_parameter = []\n",
    "\n",
    "for n_estimators in range(100,165,1):\n",
    "    rf_clf_tun = RandomForestClassifier(n_estimators=n_estimators, random_state=42)\n",
    "    rf_clf_tun.fit(X_fit, y_fit)\n",
    "    pred_tun = rf_clf_tun.predict(X_val)\n",
    "\n",
    "    print(f'n_estimators: {n_estimators}, AUC: {roc_auc_score(y_val, pred_tun)}')\n",
    "    \n",
    "    log_parameter.append({'n_estimators': n_estimators,\n",
    "                          \"AUC\": roc_auc_score(y_val, pred_tun)})\n",
    "    \n",
    "df_log = pd.DataFrame(log_parameter)    "
   ]
  },
  {
   "cell_type": "code",
   "execution_count": 29,
   "id": "0fb7cb42",
   "metadata": {},
   "outputs": [
    {
     "data": {
      "text/plain": [
       "Text(0, 0.5, 'AUC')"
      ]
     },
     "execution_count": 29,
     "metadata": {},
     "output_type": "execute_result"
    },
    {
     "data": {
      "image/png": "[encoded data removed]",
      "text/plain": [
       "<Figure size 400x200 with 1 Axes>"
      ]
     },
     "metadata": {},
     "output_type": "display_data"
    }
   ],
   "source": [
    "plt.figure(figsize=(4,2))\n",
    "plt.plot(df_log[\"n_estimators\"], df_log[\"AUC\"], color='r')\n",
    "plt.xlabel(\"n_estimators\")\n",
    "plt.ylabel(\"AUC\")"
   ]
  },
  {
   "cell_type": "markdown",
   "id": "c5b39564",
   "metadata": {},
   "source": [
    "### max_depth"
   ]
  },
  {
   "cell_type": "code",
   "execution_count": 35,
   "id": "2dcc2dfa",
   "metadata": {
    "collapsed": true
   },
   "outputs": [
    {
     "name": "stdout",
     "output_type": "stream",
     "text": [
      "max_depth: 8, AUC: 0.6810714814266687\n",
      "max_depth: 9, AUC: 0.6638301021163239\n",
      "max_depth: 10, AUC: 0.6638301021163239\n",
      "max_depth: 11, AUC: 0.6616841793695427\n",
      "max_depth: 12, AUC: 0.6595382566227617\n",
      "max_depth: 13, AUC: 0.6767796359331065\n",
      "max_depth: 14, AUC: 0.6961669379902323\n",
      "max_depth: 15, AUC: 0.6767796359331065\n",
      "max_depth: 16, AUC: 0.6789255586798876\n",
      "max_depth: 17, AUC: 0.6767796359331065\n",
      "max_depth: 18, AUC: 0.6789255586798876\n",
      "max_depth: 19, AUC: 0.6961669379902323\n",
      "max_depth: 20, AUC: 0.6961669379902323\n",
      "max_depth: 21, AUC: 0.7134083173005772\n",
      "max_depth: 22, AUC: 0.6961669379902323\n",
      "max_depth: 23, AUC: 0.6961669379902323\n",
      "max_depth: 24, AUC: 0.6961669379902323\n"
     ]
    }
   ],
   "source": [
    "log_parameter = []\n",
    "\n",
    "for max_depth in range(8,25,1):\n",
    "    rf_clf_tun = RandomForestClassifier(max_depth=max_depth, random_state=42)\n",
    "    rf_clf_tun.fit(X_fit, y_fit)\n",
    "    pred_tun = rf_clf_tun.predict(X_val)\n",
    "\n",
    "    print(f'max_depth: {max_depth}, AUC: {roc_auc_score(y_val, pred_tun)}')\n",
    "    \n",
    "    log_parameter.append({'max_depth': max_depth,\n",
    "                          \"AUC\": roc_auc_score(y_val, pred_tun)})\n",
    "    \n",
    "df_log = pd.DataFrame(log_parameter) "
   ]
  },
  {
   "cell_type": "code",
   "execution_count": 36,
   "id": "d8bc830f",
   "metadata": {},
   "outputs": [
    {
     "data": {
      "text/plain": [
       "Text(0, 0.5, 'AUC')"
      ]
     },
     "execution_count": 36,
     "metadata": {},
     "output_type": "execute_result"
    },
    {
     "data": {
      "image/png": "[encoded data removed]",
      "text/plain": [
       "<Figure size 400x200 with 1 Axes>"
      ]
     },
     "metadata": {},
     "output_type": "display_data"
    }
   ],
   "source": [
    "plt.figure(figsize=(4,2))\n",
    "plt.plot(df_log[\"max_depth\"], df_log[\"AUC\"], color='r')\n",
    "plt.xlabel(\"max_depth\")\n",
    "plt.ylabel(\"AUC\")"
   ]
  },
  {
   "cell_type": "markdown",
   "id": "ec949aab",
   "metadata": {},
   "source": [
    "### criterion"
   ]
  },
  {
   "cell_type": "code",
   "execution_count": 37,
   "id": "2b39f8bb",
   "metadata": {},
   "outputs": [
    {
     "name": "stdout",
     "output_type": "stream",
     "text": [
      "criterion: gini, AUC: 0.6961669379902323\n",
      "criterion: entropy, AUC: 0.7134083173005772\n",
      "criterion: log_loss, AUC: 0.7134083173005772\n"
     ]
    }
   ],
   "source": [
    "log_parameter = []\n",
    "\n",
    "for criterion in [\"gini\",\"entropy\",\"log_loss\"]:\n",
    "    rf_clf_tun = RandomForestClassifier(criterion=criterion, random_state=42)\n",
    "    rf_clf_tun.fit(X_fit, y_fit)\n",
    "    pred_tun = rf_clf_tun.predict(X_val)\n",
    "\n",
    "    print(f'criterion: {criterion}, AUC: {roc_auc_score(y_val, pred_tun)}')\n",
    "    \n",
    "    log_parameter.append({'criterion': criterion,\n",
    "                          \"AUC\": roc_auc_score(y_val, pred_tun)})\n",
    "    \n",
    "df_log = pd.DataFrame(log_parameter) "
   ]
  },
  {
   "cell_type": "code",
   "execution_count": 38,
   "id": "47a29c89",
   "metadata": {},
   "outputs": [
    {
     "data": {
      "text/plain": [
       "Text(0, 0.5, 'AUC')"
      ]
     },
     "execution_count": 38,
     "metadata": {},
     "output_type": "execute_result"
    },
    {
     "data": {
      "image/png": "[encoded data removed]",
      "text/plain": [
       "<Figure size 400x200 with 1 Axes>"
      ]
     },
     "metadata": {},
     "output_type": "display_data"
    }
   ],
   "source": [
    "plt.figure(figsize=(4,2))\n",
    "plt.plot(df_log[\"criterion\"], df_log[\"AUC\"], color='r')\n",
    "plt.xlabel(\"criterion\")\n",
    "plt.ylabel(\"AUC\")"
   ]
  },
  {
   "cell_type": "markdown",
   "id": "3fe4d686",
   "metadata": {},
   "source": [
    "### min_samples_split"
   ]
  },
  {
   "cell_type": "code",
   "execution_count": 43,
   "id": "7cbe0c74",
   "metadata": {
    "collapsed": true
   },
   "outputs": [
    {
     "name": "stdout",
     "output_type": "stream",
     "text": [
      "min_samples_split: 2, AUC: 0.6961669379902323\n",
      "min_samples_split: 4, AUC: 0.6789255586798876\n",
      "min_samples_split: 6, AUC: 0.6789255586798876\n",
      "min_samples_split: 8, AUC: 0.6638301021163239\n",
      "min_samples_split: 10, AUC: 0.6810714814266687\n",
      "min_samples_split: 12, AUC: 0.6810714814266687\n",
      "min_samples_split: 14, AUC: 0.6638301021163239\n",
      "min_samples_split: 16, AUC: 0.6638301021163239\n",
      "min_samples_split: 18, AUC: 0.6638301021163239\n",
      "min_samples_split: 20, AUC: 0.6638301021163239\n",
      "min_samples_split: 22, AUC: 0.6638301021163239\n",
      "min_samples_split: 24, AUC: 0.6810714814266687\n",
      "min_samples_split: 26, AUC: 0.6832174041734498\n",
      "min_samples_split: 28, AUC: 0.6659760248631049\n"
     ]
    }
   ],
   "source": [
    "log_parameter = []\n",
    "\n",
    "for min_samples_split in range(2,30,2):\n",
    "    rf_clf_tun = RandomForestClassifier(min_samples_split=min_samples_split, random_state=42)\n",
    "    rf_clf_tun.fit(X_fit, y_fit)\n",
    "    pred_tun = rf_clf_tun.predict(X_val)\n",
    "\n",
    "    print(f'min_samples_split: {min_samples_split}, AUC: {roc_auc_score(y_val, pred_tun)}')\n",
    "    \n",
    "    log_parameter.append({'min_samples_split': min_samples_split,\n",
    "                          \"AUC\": roc_auc_score(y_val, pred_tun)})\n",
    "    \n",
    "df_log = pd.DataFrame(log_parameter) "
   ]
  },
  {
   "cell_type": "code",
   "execution_count": 44,
   "id": "47b7a621",
   "metadata": {},
   "outputs": [
    {
     "data": {
      "text/plain": [
       "Text(0, 0.5, 'AUC')"
      ]
     },
     "execution_count": 44,
     "metadata": {},
     "output_type": "execute_result"
    },
    {
     "data": {
      "image/png": "[encoded data removed]",
      "text/plain": [
       "<Figure size 400x200 with 1 Axes>"
      ]
     },
     "metadata": {},
     "output_type": "display_data"
    }
   ],
   "source": [
    "plt.figure(figsize=(4,2))\n",
    "plt.plot(df_log[\"min_samples_split\"], df_log[\"AUC\"], color='r')\n",
    "plt.xlabel(\"min_samples_split\")\n",
    "plt.ylabel(\"AUC\")"
   ]
  },
  {
   "cell_type": "markdown",
   "id": "995c43ad",
   "metadata": {},
   "source": [
    "### min_samples_leaf"
   ]
  },
  {
   "cell_type": "code",
   "execution_count": 45,
   "id": "0882417d",
   "metadata": {},
   "outputs": [
    {
     "name": "stdout",
     "output_type": "stream",
     "text": [
      "min_samples_leaf: 1, AUC: 0.6961669379902323\n",
      "min_samples_leaf: 2, AUC: 0.6810714814266687\n",
      "min_samples_leaf: 3, AUC: 0.6659760248631049\n",
      "min_samples_leaf: 4, AUC: 0.6638301021163239\n",
      "min_samples_leaf: 5, AUC: 0.6659760248631049\n",
      "min_samples_leaf: 6, AUC: 0.6465887228059789\n",
      "min_samples_leaf: 7, AUC: 0.6487346455527601\n",
      "min_samples_leaf: 8, AUC: 0.6659760248631049\n",
      "min_samples_leaf: 9, AUC: 0.6465887228059789\n"
     ]
    }
   ],
   "source": [
    "log_parameter = []\n",
    "\n",
    "for min_samples_leaf in range(1,10,1):\n",
    "    rf_clf_tun = RandomForestClassifier(min_samples_leaf=min_samples_leaf, random_state=42)\n",
    "    rf_clf_tun.fit(X_fit, y_fit)\n",
    "    pred_tun = rf_clf_tun.predict(X_val)\n",
    "\n",
    "    print(f'min_samples_leaf: {min_samples_leaf}, AUC: {roc_auc_score(y_val, pred_tun)}')\n",
    "    \n",
    "    log_parameter.append({'min_samples_leaf': min_samples_leaf,\n",
    "                          \"AUC\": roc_auc_score(y_val, pred_tun)})\n",
    "    \n",
    "df_log = pd.DataFrame(log_parameter) "
   ]
  },
  {
   "cell_type": "code",
   "execution_count": 46,
   "id": "1b51179d",
   "metadata": {},
   "outputs": [
    {
     "data": {
      "text/plain": [
       "Text(0, 0.5, 'AUC')"
      ]
     },
     "execution_count": 46,
     "metadata": {},
     "output_type": "execute_result"
    },
    {
     "data": {
      "image/png": "[encoded data removed]",
      "text/plain": [
       "<Figure size 400x200 with 1 Axes>"
      ]
     },
     "metadata": {},
     "output_type": "display_data"
    }
   ],
   "source": [
    "plt.figure(figsize=(4,2))\n",
    "plt.plot(df_log[\"min_samples_leaf\"], df_log[\"AUC\"], color='r')\n",
    "plt.xlabel(\"min_samples_leaf\")\n",
    "plt.ylabel(\"AUC\")"
   ]
  },
  {
   "cell_type": "markdown",
   "id": "d775e7e4",
   "metadata": {},
   "source": [
    "### min_weight_fraction_leaf"
   ]
  },
  {
   "cell_type": "code",
   "execution_count": 53,
   "id": "d762597b",
   "metadata": {
    "collapsed": true
   },
   "outputs": [
    {
     "name": "stdout",
     "output_type": "stream",
     "text": [
      "min_weight_fraction_leaf: 0.0, AUC: 0.6961669379902323\n",
      "min_weight_fraction_leaf: 0.01, AUC: 0.6487346455527601\n",
      "min_weight_fraction_leaf: 0.02, AUC: 0.6314932662424153\n",
      "min_weight_fraction_leaf: 0.03, AUC: 0.6336391889891965\n",
      "min_weight_fraction_leaf: 0.04, AUC: 0.6336391889891965\n",
      "min_weight_fraction_leaf: 0.05, AUC: 0.5862068965517242\n",
      "min_weight_fraction_leaf: 0.06, AUC: 0.5\n",
      "min_weight_fraction_leaf: 0.07, AUC: 0.5\n",
      "min_weight_fraction_leaf: 0.08, AUC: 0.5\n",
      "min_weight_fraction_leaf: 0.09, AUC: 0.5\n",
      "min_weight_fraction_leaf: 0.1, AUC: 0.5\n",
      "min_weight_fraction_leaf: 0.11, AUC: 0.5\n",
      "min_weight_fraction_leaf: 0.12, AUC: 0.5\n",
      "min_weight_fraction_leaf: 0.13, AUC: 0.5\n",
      "min_weight_fraction_leaf: 0.14, AUC: 0.5\n",
      "min_weight_fraction_leaf: 0.15, AUC: 0.5\n",
      "min_weight_fraction_leaf: 0.16, AUC: 0.5\n",
      "min_weight_fraction_leaf: 0.17, AUC: 0.5\n",
      "min_weight_fraction_leaf: 0.18, AUC: 0.5\n",
      "min_weight_fraction_leaf: 0.19, AUC: 0.5\n",
      "min_weight_fraction_leaf: 0.2, AUC: 0.5\n",
      "min_weight_fraction_leaf: 0.21, AUC: 0.5\n",
      "min_weight_fraction_leaf: 0.22, AUC: 0.5\n",
      "min_weight_fraction_leaf: 0.23, AUC: 0.5\n",
      "min_weight_fraction_leaf: 0.24, AUC: 0.5\n",
      "min_weight_fraction_leaf: 0.25, AUC: 0.5\n",
      "min_weight_fraction_leaf: 0.26, AUC: 0.5\n",
      "min_weight_fraction_leaf: 0.27, AUC: 0.5\n",
      "min_weight_fraction_leaf: 0.28, AUC: 0.5\n",
      "min_weight_fraction_leaf: 0.29, AUC: 0.5\n",
      "min_weight_fraction_leaf: 0.3, AUC: 0.5\n",
      "min_weight_fraction_leaf: 0.31, AUC: 0.5\n",
      "min_weight_fraction_leaf: 0.32, AUC: 0.5\n",
      "min_weight_fraction_leaf: 0.33, AUC: 0.5\n",
      "min_weight_fraction_leaf: 0.34, AUC: 0.5\n",
      "min_weight_fraction_leaf: 0.35000000000000003, AUC: 0.5\n",
      "min_weight_fraction_leaf: 0.36, AUC: 0.5\n",
      "min_weight_fraction_leaf: 0.37, AUC: 0.5\n",
      "min_weight_fraction_leaf: 0.38, AUC: 0.5\n",
      "min_weight_fraction_leaf: 0.39, AUC: 0.5\n",
      "min_weight_fraction_leaf: 0.4, AUC: 0.5\n",
      "min_weight_fraction_leaf: 0.41000000000000003, AUC: 0.5\n",
      "min_weight_fraction_leaf: 0.42, AUC: 0.5\n",
      "min_weight_fraction_leaf: 0.43, AUC: 0.5\n",
      "min_weight_fraction_leaf: 0.44, AUC: 0.5\n",
      "min_weight_fraction_leaf: 0.45, AUC: 0.5\n",
      "min_weight_fraction_leaf: 0.46, AUC: 0.5\n",
      "min_weight_fraction_leaf: 0.47000000000000003, AUC: 0.5\n",
      "min_weight_fraction_leaf: 0.48, AUC: 0.5\n",
      "min_weight_fraction_leaf: 0.49, AUC: 0.5\n"
     ]
    }
   ],
   "source": [
    "log_parameter = []\n",
    "\n",
    "for min_weight_fraction_leaf in np.arange(0,0.5,0.01):\n",
    "    rf_clf_tun = RandomForestClassifier(min_weight_fraction_leaf=min_weight_fraction_leaf, random_state=42)\n",
    "    rf_clf_tun.fit(X_fit, y_fit)\n",
    "    pred_tun = rf_clf_tun.predict(X_val)\n",
    "\n",
    "    print(f'min_weight_fraction_leaf: {min_weight_fraction_leaf}, AUC: {roc_auc_score(y_val, pred_tun)}')\n",
    "    \n",
    "    log_parameter.append({'min_weight_fraction_leaf': min_weight_fraction_leaf,\n",
    "                          \"AUC\": roc_auc_score(y_val, pred_tun)})\n",
    "    \n",
    "df_log = pd.DataFrame(log_parameter) "
   ]
  },
  {
   "cell_type": "code",
   "execution_count": 54,
   "id": "3760ebc9",
   "metadata": {
    "collapsed": true
   },
   "outputs": [
    {
     "data": {
      "text/plain": [
       "Text(0, 0.5, 'AUC')"
      ]
     },
     "execution_count": 54,
     "metadata": {},
     "output_type": "execute_result"
    },
    {
     "data": {
      "image/png": "[encoded data removed]",
      "text/plain": [
       "<Figure size 400x200 with 1 Axes>"
      ]
     },
     "metadata": {},
     "output_type": "display_data"
    }
   ],
   "source": [
    "plt.figure(figsize=(4,2))\n",
    "plt.plot(df_log[\"min_weight_fraction_leaf\"], df_log[\"AUC\"], color='r')\n",
    "plt.xlabel(\"min_weight_fraction_leaf\")\n",
    "plt.ylabel(\"AUC\")"
   ]
  },
  {
   "cell_type": "markdown",
   "id": "d7a9639a",
   "metadata": {},
   "source": [
    "### max_features"
   ]
  },
  {
   "cell_type": "code",
   "execution_count": 55,
   "id": "6bd73fa4",
   "metadata": {},
   "outputs": [
    {
     "name": "stdout",
     "output_type": "stream",
     "text": [
      "max_features: sqrt, AUC: 0.6961669379902323\n",
      "max_features: log2, AUC: 0.6940210152434513\n",
      "max_features: None, AUC: 0.6746337131863254\n"
     ]
    }
   ],
   "source": [
    "log_parameter = []\n",
    "\n",
    "for max_features in ['sqrt','log2', None]:\n",
    "    rf_clf_tun = RandomForestClassifier(max_features=max_features, random_state=42)\n",
    "    rf_clf_tun.fit(X_fit, y_fit)\n",
    "    pred_tun = rf_clf_tun.predict(X_val)\n",
    "\n",
    "    print(f'max_features: {max_features}, AUC: {roc_auc_score(y_val, pred_tun)}')\n",
    "    \n",
    "    log_parameter.append({'max_features': max_features,\n",
    "                          \"AUC\": roc_auc_score(y_val, pred_tun)})\n",
    "    \n",
    "df_log = pd.DataFrame(log_parameter) "
   ]
  },
  {
   "cell_type": "markdown",
   "id": "c8f1ce3f",
   "metadata": {},
   "source": [
    "### max_leaf_nodes"
   ]
  },
  {
   "cell_type": "code",
   "execution_count": 63,
   "id": "e8e42506",
   "metadata": {
    "collapsed": true
   },
   "outputs": [
    {
     "name": "stdout",
     "output_type": "stream",
     "text": [
      "max_leaf_nodes: 10, AUC: 0.6314932662424153\n",
      "max_leaf_nodes: 11, AUC: 0.6487346455527601\n",
      "max_leaf_nodes: 12, AUC: 0.6487346455527601\n",
      "max_leaf_nodes: 13, AUC: 0.6487346455527601\n",
      "max_leaf_nodes: 14, AUC: 0.6487346455527601\n",
      "max_leaf_nodes: 15, AUC: 0.6487346455527601\n",
      "max_leaf_nodes: 16, AUC: 0.6638301021163239\n",
      "max_leaf_nodes: 17, AUC: 0.6638301021163239\n",
      "max_leaf_nodes: 18, AUC: 0.6638301021163239\n",
      "max_leaf_nodes: 19, AUC: 0.6638301021163239\n",
      "max_leaf_nodes: 20, AUC: 0.6638301021163239\n",
      "max_leaf_nodes: 21, AUC: 0.6638301021163239\n",
      "max_leaf_nodes: 22, AUC: 0.6638301021163239\n",
      "max_leaf_nodes: 23, AUC: 0.6810714814266687\n",
      "max_leaf_nodes: 24, AUC: 0.6810714814266687\n",
      "max_leaf_nodes: 25, AUC: 0.6810714814266687\n",
      "max_leaf_nodes: 26, AUC: 0.6810714814266687\n",
      "max_leaf_nodes: 27, AUC: 0.6810714814266687\n",
      "max_leaf_nodes: 28, AUC: 0.6810714814266687\n",
      "max_leaf_nodes: 29, AUC: 0.6810714814266687\n"
     ]
    }
   ],
   "source": [
    "log_parameter = []\n",
    "\n",
    "for max_leaf_nodes in range(10,30,1):\n",
    "    rf_clf_tun = RandomForestClassifier(max_leaf_nodes=max_leaf_nodes, random_state=42)\n",
    "    rf_clf_tun.fit(X_fit, y_fit)\n",
    "    pred_tun = rf_clf_tun.predict(X_val)\n",
    "\n",
    "    print(f'max_leaf_nodes: {max_leaf_nodes}, AUC: {roc_auc_score(y_val, pred_tun)}')\n",
    "    \n",
    "    log_parameter.append({'max_leaf_nodes': max_leaf_nodes,\n",
    "                          \"AUC\": roc_auc_score(y_val, pred_tun)})\n",
    "    \n",
    "df_log = pd.DataFrame(log_parameter) "
   ]
  },
  {
   "cell_type": "code",
   "execution_count": 64,
   "id": "5978e82c",
   "metadata": {},
   "outputs": [
    {
     "data": {
      "text/plain": [
       "Text(0, 0.5, 'AUC')"
      ]
     },
     "execution_count": 64,
     "metadata": {},
     "output_type": "execute_result"
    },
    {
     "data": {
      "image/png": "[encoded data removed]",
      "text/plain": [
       "<Figure size 400x200 with 1 Axes>"
      ]
     },
     "metadata": {},
     "output_type": "display_data"
    }
   ],
   "source": [
    "plt.figure(figsize=(4,2))\n",
    "plt.plot(df_log[\"max_leaf_nodes\"], df_log[\"AUC\"], color='r')\n",
    "plt.xlabel(\"max_leaf_nodes\")\n",
    "plt.ylabel(\"AUC\")"
   ]
  },
  {
   "cell_type": "markdown",
   "id": "fee3738e",
   "metadata": {},
   "source": [
    "### min_impurity_decrease"
   ]
  },
  {
   "cell_type": "code",
   "execution_count": 68,
   "id": "ca360f87",
   "metadata": {
    "collapsed": true
   },
   "outputs": [
    {
     "name": "stdout",
     "output_type": "stream",
     "text": [
      "min_impurity_decrease: 0.0, AUC: 0.6961669379902323\n",
      "min_impurity_decrease: 0.01, AUC: 0.5323368358739086\n",
      "min_impurity_decrease: 0.02, AUC: 0.5\n",
      "min_impurity_decrease: 0.03, AUC: 0.5\n",
      "min_impurity_decrease: 0.04, AUC: 0.5\n",
      "min_impurity_decrease: 0.05, AUC: 0.5\n",
      "min_impurity_decrease: 0.06, AUC: 0.5\n",
      "min_impurity_decrease: 0.07, AUC: 0.5\n",
      "min_impurity_decrease: 0.08, AUC: 0.5\n",
      "min_impurity_decrease: 0.09, AUC: 0.5\n",
      "min_impurity_decrease: 0.1, AUC: 0.5\n",
      "min_impurity_decrease: 0.11, AUC: 0.5\n",
      "min_impurity_decrease: 0.12, AUC: 0.5\n",
      "min_impurity_decrease: 0.13, AUC: 0.5\n",
      "min_impurity_decrease: 0.14, AUC: 0.5\n",
      "min_impurity_decrease: 0.15, AUC: 0.5\n",
      "min_impurity_decrease: 0.16, AUC: 0.5\n",
      "min_impurity_decrease: 0.17, AUC: 0.5\n",
      "min_impurity_decrease: 0.18, AUC: 0.5\n",
      "min_impurity_decrease: 0.19, AUC: 0.5\n"
     ]
    }
   ],
   "source": [
    "log_parameter = []\n",
    "\n",
    "for min_impurity_decrease in np.arange(0,0.2,0.01):\n",
    "    rf_clf_tun = RandomForestClassifier(min_impurity_decrease=min_impurity_decrease, random_state=42)\n",
    "    rf_clf_tun.fit(X_fit, y_fit)\n",
    "    pred_tun = rf_clf_tun.predict(X_val)\n",
    "\n",
    "    print(f'min_impurity_decrease: {min_impurity_decrease}, AUC: {roc_auc_score(y_val, pred_tun)}')\n",
    "    \n",
    "    log_parameter.append({'min_impurity_decrease': min_impurity_decrease,\n",
    "                          \"AUC\": roc_auc_score(y_val, pred_tun)})\n",
    "    \n",
    "df_log = pd.DataFrame(log_parameter) "
   ]
  },
  {
   "cell_type": "code",
   "execution_count": 69,
   "id": "69746e5f",
   "metadata": {},
   "outputs": [
    {
     "data": {
      "text/plain": [
       "Text(0, 0.5, 'AUC')"
      ]
     },
     "execution_count": 69,
     "metadata": {},
     "output_type": "execute_result"
    },
    {
     "data": {
      "image/png": "[encoded data removed]",
      "text/plain": [
       "<Figure size 400x200 with 1 Axes>"
      ]
     },
     "metadata": {},
     "output_type": "display_data"
    }
   ],
   "source": [
    "plt.figure(figsize=(4,2))\n",
    "plt.plot(df_log[\"min_impurity_decrease\"], df_log[\"AUC\"], color='r')\n",
    "plt.xlabel(\"min_impurity_decrease\")\n",
    "plt.ylabel(\"AUC\")"
   ]
  },
  {
   "cell_type": "markdown",
   "id": "10b754fd",
   "metadata": {},
   "source": [
    "### bootstrap"
   ]
  },
  {
   "cell_type": "code",
   "execution_count": 70,
   "id": "848bfb27",
   "metadata": {},
   "outputs": [
    {
     "name": "stdout",
     "output_type": "stream",
     "text": [
      "bootstrap: True, AUC: 0.6961669379902323\n",
      "bootstrap: False, AUC: 0.7134083173005772\n"
     ]
    }
   ],
   "source": [
    "log_parameter = []\n",
    "\n",
    "for bootstrap in [True, False]:\n",
    "    rf_clf_tun = RandomForestClassifier(bootstrap=bootstrap, random_state=42)\n",
    "    rf_clf_tun.fit(X_fit, y_fit)\n",
    "    pred_tun = rf_clf_tun.predict(X_val)\n",
    "\n",
    "    print(f'bootstrap: {bootstrap}, AUC: {roc_auc_score(y_val, pred_tun)}')\n",
    "    \n",
    "    log_parameter.append({'bootstrap': bootstrap,\n",
    "                          \"AUC\": roc_auc_score(y_val, pred_tun)})\n",
    "    \n",
    "df_log = pd.DataFrame(log_parameter) "
   ]
  },
  {
   "cell_type": "code",
   "execution_count": null,
   "id": "f0ade44c",
   "metadata": {},
   "outputs": [],
   "source": []
  },
  {
   "cell_type": "code",
   "execution_count": null,
   "id": "a6a75694",
   "metadata": {},
   "outputs": [],
   "source": []
  },
  {
   "cell_type": "markdown",
   "id": "4ee2ee6b",
   "metadata": {},
   "source": [
    "## 6. Submission"
   ]
  },
  {
   "cell_type": "code",
   "execution_count": null,
   "id": "eb769166",
   "metadata": {},
   "outputs": [],
   "source": [
    "submission.head(1)"
   ]
  },
  {
   "cell_type": "code",
   "execution_count": 96,
   "id": "6d53ba6f",
   "metadata": {},
   "outputs": [
    {
     "data": {
      "text/html": [
       "<div>\n",
       "<style scoped>\n",
       "    .dataframe tbody tr th:only-of-type {\n",
       "        vertical-align: middle;\n",
       "    }\n",
       "\n",
       "    .dataframe tbody tr th {\n",
       "        vertical-align: top;\n",
       "    }\n",
       "\n",
       "    .dataframe thead th {\n",
       "        text-align: right;\n",
       "    }\n",
       "</style>\n",
       "<table border=\"1\" class=\"dataframe\">\n",
       "  <thead>\n",
       "    <tr style=\"text-align: right;\">\n",
       "      <th></th>\n",
       "      <th>n_estimators</th>\n",
       "      <th>criterion</th>\n",
       "      <th>max_depth</th>\n",
       "      <th>min_samples_split</th>\n",
       "      <th>min_samples_leaf</th>\n",
       "      <th>min_weight_fraction_leaf</th>\n",
       "      <th>max_features</th>\n",
       "      <th>max_leaf_nodes</th>\n",
       "      <th>min_impurity_decrease</th>\n",
       "      <th>bootstrap</th>\n",
       "    </tr>\n",
       "  </thead>\n",
       "  <tbody>\n",
       "    <tr>\n",
       "      <th>0</th>\n",
       "      <td>104</td>\n",
       "      <td>log_loss</td>\n",
       "      <td>25</td>\n",
       "      <td>28</td>\n",
       "      <td>4</td>\n",
       "      <td>0.055852</td>\n",
       "      <td>None</td>\n",
       "      <td>27</td>\n",
       "      <td>0.065037</td>\n",
       "      <td>True</td>\n",
       "    </tr>\n",
       "  </tbody>\n",
       "</table>\n",
       "</div>"
      ],
      "text/plain": [
       "   n_estimators criterion  max_depth  min_samples_split  min_samples_leaf  \\\n",
       "0           104  log_loss         25                 28                 4   \n",
       "\n",
       "   min_weight_fraction_leaf max_features  max_leaf_nodes  \\\n",
       "0                  0.055852         None              27   \n",
       "\n",
       "   min_impurity_decrease  bootstrap  \n",
       "0               0.065037       True  "
      ]
     },
     "execution_count": 96,
     "metadata": {},
     "output_type": "execute_result"
    }
   ],
   "source": [
    "for col in submission.columns:\n",
    "    submission[col] = p_optuna.get(col)\n",
    "    \n",
    "submission.head(1)    "
   ]
  },
  {
   "cell_type": "code",
   "execution_count": 99,
   "id": "fa101e33",
   "metadata": {},
   "outputs": [],
   "source": [
    "submission.to_csv(\"dacon-rf_tuning.csv\", index=False)"
   ]
  },
  {
   "cell_type": "code",
   "execution_count": null,
   "id": "a132ea7f",
   "metadata": {},
   "outputs": [],
   "source": []
  },
  {
   "cell_type": "markdown",
   "id": "2e238e84",
   "metadata": {},
   "source": [
    "---\n",
    "reference\n",
    "- https://dacon.io/competitions/official/236229/codeshare/9960?page=1&dtype=recent\n",
    "- https://dacon.io/competitions/official/236229/codeshare/9946?page=1&dtype=recent"
   ]
  }
 ],
 "metadata": {
  "kernelspec": {
   "display_name": "Python 3 (ipykernel)",
   "language": "python",
   "name": "python3"
  },
  "language_info": {
   "codemirror_mode": {
    "name": "ipython",
    "version": 3
   },
   "file_extension": ".py",
   "mimetype": "text/x-python",
   "name": "python",
   "nbconvert_exporter": "python",
   "pygments_lexer": "ipython3",
   "version": "3.11.5"
  }
 },
 "nbformat": 4,
 "nbformat_minor": 5
}
